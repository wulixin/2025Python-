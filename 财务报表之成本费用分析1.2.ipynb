{
 "cells": [
  {
   "cell_type": "code",
   "execution_count": 33,
   "id": "6b90b65e-be85-4eca-a2f9-44f97acc5790",
   "metadata": {},
   "outputs": [],
   "source": [
    "import pandas as pd \n",
    "import numpy as py \n",
    "import datetime \n",
    "import matplotlib.pyplot as plt \n",
    "import sklearn as sk \n",
    "import scipy as sp \n",
    "import baostock as bs \n",
    "import seaborn as sns "
   ]
  },
  {
   "cell_type": "code",
   "execution_count": 34,
   "id": "26a186a2-5954-42b2-a2d3-f97d0c7a7b28",
   "metadata": {},
   "outputs": [],
   "source": [
    "plt.rcParams['font.sans-serif'] = ['PingFang SC', 'Arial Unicode MS']  # Mac常用中文字体\n",
    "plt.rcParams['axes.unicode_minus'] = False  # 解决负号显示问题\n",
    "pd.options.display.float_format = '{:.2f}'.format\n"
   ]
  },
  {
   "cell_type": "code",
   "execution_count": 35,
   "id": "21a29837-25bf-46d6-acda-f331cdf3b8a8",
   "metadata": {},
   "outputs": [],
   "source": [
    "tables=pd.read_html(\"https://s.askci.com/stock/financialanalysis/003030\",header=0)"
   ]
  },
  {
   "cell_type": "code",
   "execution_count": 36,
   "id": "3674f5ba-f92b-410d-b78c-3c2880f4f129",
   "metadata": {},
   "outputs": [
    {
     "data": {
      "text/html": [
       "<div>\n",
       "<style scoped>\n",
       "    .dataframe tbody tr th:only-of-type {\n",
       "        vertical-align: middle;\n",
       "    }\n",
       "\n",
       "    .dataframe tbody tr th {\n",
       "        vertical-align: top;\n",
       "    }\n",
       "\n",
       "    .dataframe thead th {\n",
       "        text-align: right;\n",
       "    }\n",
       "</style>\n",
       "<table border=\"1\" class=\"dataframe\">\n",
       "  <thead>\n",
       "    <tr style=\"text-align: right;\">\n",
       "      <th></th>\n",
       "      <th>类别\\年份</th>\n",
       "      <th>营业成本 （元)</th>\n",
       "      <th>销售费用 （元)</th>\n",
       "      <th>管理费用 （元)</th>\n",
       "      <th>财务费用 （元)</th>\n",
       "    </tr>\n",
       "  </thead>\n",
       "  <tbody>\n",
       "    <tr>\n",
       "      <th>0</th>\n",
       "      <td>2013</td>\n",
       "      <td>7.60亿</td>\n",
       "      <td>1.58亿</td>\n",
       "      <td>7527.54万</td>\n",
       "      <td>2858.55万</td>\n",
       "    </tr>\n",
       "    <tr>\n",
       "      <th>1</th>\n",
       "      <td>2014</td>\n",
       "      <td>7.68亿</td>\n",
       "      <td>1.61亿</td>\n",
       "      <td>6470.15万</td>\n",
       "      <td>2725.30万</td>\n",
       "    </tr>\n",
       "    <tr>\n",
       "      <th>2</th>\n",
       "      <td>2015</td>\n",
       "      <td>7.78亿</td>\n",
       "      <td>1.65亿</td>\n",
       "      <td>5772.93万</td>\n",
       "      <td>2602.59万</td>\n",
       "    </tr>\n",
       "    <tr>\n",
       "      <th>3</th>\n",
       "      <td>2016</td>\n",
       "      <td>8.27亿</td>\n",
       "      <td>1.68亿</td>\n",
       "      <td>5280.43万</td>\n",
       "      <td>2045.20万</td>\n",
       "    </tr>\n",
       "    <tr>\n",
       "      <th>4</th>\n",
       "      <td>2017</td>\n",
       "      <td>8.13亿</td>\n",
       "      <td>1.62亿</td>\n",
       "      <td>5181.31万</td>\n",
       "      <td>1817.51万</td>\n",
       "    </tr>\n",
       "    <tr>\n",
       "      <th>5</th>\n",
       "      <td>2018</td>\n",
       "      <td>8.61亿</td>\n",
       "      <td>1.87亿</td>\n",
       "      <td>5380.90万</td>\n",
       "      <td>2052.01万</td>\n",
       "    </tr>\n",
       "    <tr>\n",
       "      <th>6</th>\n",
       "      <td>2019</td>\n",
       "      <td>9.39亿</td>\n",
       "      <td>2.13亿</td>\n",
       "      <td>5726.03万</td>\n",
       "      <td>2162.63万</td>\n",
       "    </tr>\n",
       "    <tr>\n",
       "      <th>7</th>\n",
       "      <td>2020</td>\n",
       "      <td>11.00亿</td>\n",
       "      <td>1.87亿</td>\n",
       "      <td>5696.68万</td>\n",
       "      <td>1560.68万</td>\n",
       "    </tr>\n",
       "    <tr>\n",
       "      <th>8</th>\n",
       "      <td>2021</td>\n",
       "      <td>12.70亿</td>\n",
       "      <td>1.96亿</td>\n",
       "      <td>6394.54万</td>\n",
       "      <td>514.32万</td>\n",
       "    </tr>\n",
       "    <tr>\n",
       "      <th>9</th>\n",
       "      <td>2022</td>\n",
       "      <td>14.43亿</td>\n",
       "      <td>2.27亿</td>\n",
       "      <td>6952.79万</td>\n",
       "      <td>779.39万</td>\n",
       "    </tr>\n",
       "    <tr>\n",
       "      <th>10</th>\n",
       "      <td>2023</td>\n",
       "      <td>14.31亿</td>\n",
       "      <td>2.23亿</td>\n",
       "      <td>8094.32万</td>\n",
       "      <td>1872.72万</td>\n",
       "    </tr>\n",
       "  </tbody>\n",
       "</table>\n",
       "</div>"
      ],
      "text/plain": [
       "    类别\\年份 营业成本 （元) 销售费用 （元)  管理费用 （元)  财务费用 （元)\n",
       "0    2013    7.60亿    1.58亿  7527.54万  2858.55万\n",
       "1    2014    7.68亿    1.61亿  6470.15万  2725.30万\n",
       "2    2015    7.78亿    1.65亿  5772.93万  2602.59万\n",
       "3    2016    8.27亿    1.68亿  5280.43万  2045.20万\n",
       "4    2017    8.13亿    1.62亿  5181.31万  1817.51万\n",
       "5    2018    8.61亿    1.87亿  5380.90万  2052.01万\n",
       "6    2019    9.39亿    2.13亿  5726.03万  2162.63万\n",
       "7    2020   11.00亿    1.87亿  5696.68万  1560.68万\n",
       "8    2021   12.70亿    1.96亿  6394.54万   514.32万\n",
       "9    2022   14.43亿    2.27亿  6952.79万   779.39万\n",
       "10   2023   14.31亿    2.23亿  8094.32万  1872.72万"
      ]
     },
     "execution_count": 36,
     "metadata": {},
     "output_type": "execute_result"
    }
   ],
   "source": [
    "df_cost=tables[3]\n",
    "df_cost"
   ]
  },
  {
   "cell_type": "code",
   "execution_count": 37,
   "id": "0735ece8-c79f-4aaf-8691-dfaf5c4bbf66",
   "metadata": {},
   "outputs": [],
   "source": [
    "def convert_unit(value):\n",
    "    \"\"\"带单位字符串转浮点数（统一转换为亿元单位）\"\"\"\n",
    "    if pd.isna(value) or value == \"\":\n",
    "        return 0.0  # 处理空值\n",
    "    if '亿' in value:\n",
    "        return float(value.replace('亿', ''))\n",
    "    elif '万' in value:\n",
    "        return float(value.replace('万', '')) / 10000\n",
    "    else:\n",
    "        return float(value)\n",
    "\n",
    "# 应用转换函数到数值列\n",
    "numeric_cols = ['营业成本 （元)', '销售费用 （元)','管理费用 （元)','财务费用 （元)']\n",
    "for col in numeric_cols:\n",
    "    df_cost[col] = df_cost[col].apply(convert_unit)"
   ]
  },
  {
   "cell_type": "markdown",
   "id": "38a8dee7-1a40-40ba-84b6-33feffc30a3f",
   "metadata": {},
   "source": [
    "## 交互式功能重要一步"
   ]
  },
  {
   "cell_type": "code",
   "execution_count": 38,
   "id": "f81a2cb4-fadb-4015-bef8-c45daa77aadd",
   "metadata": {},
   "outputs": [],
   "source": [
    "import matplotlib\n",
    "#matplotlib.use('TkAgg')  # 替换为Qt5Agg、GTK3Agg等可用后端"
   ]
  },
  {
   "cell_type": "code",
   "execution_count": 39,
   "id": "e149ab80-9e45-44c7-8f62-172230993033",
   "metadata": {},
   "outputs": [
    {
     "data": {
      "image/png": "[encoded data removed]",
      "text/plain": [
       "<Figure size 1400x800 with 2 Axes>"
      ]
     },
     "metadata": {},
     "output_type": "display_data"
    }
   ],
   "source": [
    "from matplotlib import animation\n",
    "from matplotlib.widgets import Button\n",
    "df = pd.DataFrame(df_cost)\n",
    "\n",
    "# 设置可视化参数\n",
    "colors = ['#FF6B6B', '#4ECDC4', '#45B7D1', '#96CEB4']\n",
    "categories = ['营业成本', '销售费用', '管理费用', '财务费用']\n",
    "\n",
    "# 创建画布和主图表区域\n",
    "fig = plt.figure(figsize=(14, 8))\n",
    "ax = fig.add_axes([0.1, 0.1, 0.6, 0.8])  # 主图表区域\n",
    "plt.subplots_adjust(right=0.7)  # 右侧留白\n",
    "\n",
    "# 创建年份选择面板\n",
    "year_panel = fig.add_axes([0.72, 0.1, 0.25, 0.8])  # 年份选择面板\n",
    "year_panel.axis('off')\n",
    "\n",
    "# 生成年份按钮\n",
    "years = df['类别\\年份'].tolist()\n",
    "button_height = 0.8 / len(years)  # 动态计算按钮高度\n",
    "buttons = []\n",
    "\n",
    "for idx, year in enumerate(years):\n",
    "    btn = year_panel.text(\n",
    "        0.5, 1 - (idx+0.5)*button_height,  # 垂直居中排列\n",
    "        str(year),\n",
    "        ha='center', va='center',\n",
    "        fontsize=9,\n",
    "        bbox=dict(facecolor='#F0F0F0', edgecolor='gray', alpha=0.5, pad=5),\n",
    "        picker=True  # 启用拾取功能\n",
    "    )\n",
    "    buttons.append(btn)\n",
    "\n",
    "# 初始化环形饼图\n",
    "def create_donut(year):\n",
    "    ax.clear()\n",
    "    data = df[df['类别\\年份'] == year].iloc[:, 1:].values.flatten()\n",
    "    total = data.sum()\n",
    "    percentages = data / total * 100\n",
    "    \n",
    "    # 绘制环形饼图\n",
    "    wedges, texts, autotexts = ax.pie(\n",
    "        percentages,\n",
    "        wedgeprops=dict(width=0.3, edgecolor='w'),\n",
    "        labels=categories,\n",
    "        colors=colors,\n",
    "        autopct='%.1f%%',\n",
    "        pctdistance=0.85,\n",
    "        startangle=90\n",
    "    )\n",
    "    \n",
    "    # 设置中心文字\n",
    "    ax.text(0, 0, f\"{year}\\n总成本\\n{total:.2f}元\", \n",
    "            ha='center', va='center', fontsize=12)\n",
    "    \n",
    "    # 样式优化\n",
    "    plt.setp(autotexts, size=10, weight='bold', color='white')\n",
    "    plt.setp(texts, size=10)\n",
    "    ax.set_title(f'公司历年成本费用结构变化分析', fontweight='bold',fontsize=24, pad=20,color='gold')\n",
    "    \n",
    "# 交互逻辑\n",
    "current_year = 2023  # 初始显示年份\n",
    "highlight_box = dict(facecolor='#FFA500', edgecolor='darkorange', alpha=0.7, pad=5)\n",
    "\n",
    "def on_pick(event):\n",
    "    global current_year\n",
    "    if event.artist in buttons:\n",
    "        # 清除旧的高亮效果\n",
    "        for btn in buttons:\n",
    "            btn.set_bbox(dict(facecolor='#F0F0F0', edgecolor='gray', alpha=0.5, pad=5))\n",
    "        \n",
    "        # 设置新选择年份的高亮\n",
    "        selected_year = int(event.artist.get_text())\n",
    "        event.artist.set_bbox(highlight_box)\n",
    "        \n",
    "        # 更新主图表\n",
    "        if selected_year != current_year:\n",
    "            current_year = selected_year\n",
    "            create_donut(selected_year)\n",
    "            fig.canvas.draw()\n",
    "\n",
    "# 绑定事件\n",
    "fig.canvas.mpl_connect('pick_event', on_pick)\n",
    "\n",
    "# 初始显示\n",
    "create_donut(current_year)\n",
    "buttons[-1].set_bbox(highlight_box)  # 高亮初始年份\n",
    "\n",
    "plt.show()"
   ]
  },
  {
   "cell_type": "markdown",
   "id": "1f0b1abb-286b-49cf-b333-96ba7b1491be",
   "metadata": {},
   "source": [
    "### 初步解锁DASH"
   ]
  },
  {
   "cell_type": "code",
   "execution_count": 51,
   "id": "0040ee13-a351-4189-8390-49547ec32287",
   "metadata": {},
   "outputs": [],
   "source": [
    "import dash\n",
    "from dash import dcc, html, Input, Output, State\n",
    "import plotly.graph_objs as go\n",
    "import pandas as pd\n",
    "import dash_bootstrap_components as dbc\n",
    "\n",
    "# 初始化Dash应用‌:ml-citation{ref=\"5,8\" data=\"citationList\"}\n",
    "app = dash.Dash(__name__, external_stylesheets=[dbc.themes.BOOTSTRAP])\n",
    "server = app.server "
   ]
  },
  {
   "cell_type": "code",
   "execution_count": 52,
   "id": "882f82a6-2589-4dce-b06c-619b0ac2cd8c",
   "metadata": {},
   "outputs": [
    {
     "data": {
      "text/plain": [
       "Index(['类别\\年份', '营业成本 （元)', '销售费用 （元)', '管理费用 （元)', '财务费用 （元)'], dtype='object')"
      ]
     },
     "execution_count": 52,
     "metadata": {},
     "output_type": "execute_result"
    }
   ],
   "source": [
    "df_cost.columns"
   ]
  },
  {
   "cell_type": "code",
   "execution_count": 53,
   "id": "7641f599-49cd-4ef4-b083-1e40670a6181",
   "metadata": {},
   "outputs": [],
   "source": [
    "df = pd.DataFrame(df_cost)\n",
    "categories = ['营业成本 （元)', '销售费用 （元)', '管理费用 （元)', '财务费用 （元)']\n",
    "colors = ['#FF6B6B', '#4ECDC4', '#45B7D1', '#96CEB4']\n"
   ]
  },
  {
   "cell_type": "code",
   "execution_count": 54,
   "id": "c4fd7b82-b491-437e-9cb9-c2dde207a9e8",
   "metadata": {},
   "outputs": [],
   "source": [
    "# 生成年份按钮矩阵\n",
    "year_buttons = [\n",
    "    dbc.Button(\n",
    "        str(year), \n",
    "        id={'type': 'year-btn', 'index': year},\n",
    "        className=\"m-1\",\n",
    "        style={'width': '80px', 'background-color': '#F0F0F0'}\n",
    "    ) for year in df['类别\\年份'] ]"
   ]
  },
  {
   "cell_type": "code",
   "execution_count": 55,
   "id": "7ff47efa-88d4-4303-9583-9def448d42a6",
   "metadata": {},
   "outputs": [],
   "source": [
    "app.layout = dbc.Container([\n",
    "    dbc.Row([\n",
    "        dbc.Col(\n",
    "            dcc.Graph(id='cost-pie-chart'), \n",
    "            width=8\n",
    "        ),\n",
    "        dbc.Col([\n",
    "            html.H4(\"选择年份\", className=\"text-center mb-3\"),\n",
    "            html.Div(\n",
    "                year_buttons,\n",
    "                style={'maxHeight': '500px', 'overflowY': 'auto'}\n",
    "            )\n",
    "        ], width=4)\n",
    "    ])], fluid=True)"
   ]
  },
  {
   "cell_type": "code",
   "execution_count": 56,
   "id": "7fb4ffff-12d8-4e9b-8f29-11c971825dd9",
   "metadata": {},
   "outputs": [],
   "source": [
    "@app.callback(\n",
    "    Output('cost-pie-chart', 'figure'),\n",
    "    [Input({'type': 'year-btn', 'index': dash.ALL}, 'n_clicks')],\n",
    "    [State('cost-pie-chart', 'figure')]\n",
    ")\n",
    "def update_chart(_, current_fig):\n",
    "    ctx = dash.callback_context\n",
    "    if not ctx.triggered:\n",
    "        selected_year = 2023\n",
    "    else:\n",
    "        selected_year = int(ctx.triggered['prop_id'].split('.').split(':')[-1])\n",
    "    \n",
    "    # 更新按钮样式\n",
    "    for btn in year_buttons:\n",
    "        if btn.id['index'] == selected_year:\n",
    "            btn.style['background-color'] = '#FFA500'\n",
    "        else:\n",
    "            btn.style['background-color'] = '#F0F0F0'\n",
    "    \n",
    "    # 生成新图表\n",
    "    year_data = df[df['类别\\年份'] == selected_year].iloc[:, 1:].values.flatten()\n",
    "    total = year_data.sum()\n",
    "    \n",
    "    return {\n",
    "        'data': [go.Pie(\n",
    "            values=year_data,\n",
    "            labels=categories,\n",
    "            hole=0.5,\n",
    "            marker_colors=colors,\n",
    "            textinfo='percent',\n",
    "            insidetextorientation='radial'\n",
    "        )],\n",
    "        'layout': go.Layout(\n",
    "            annotations=[\n",
    "                dict(\n",
    "                    text=f\"{selected_year}<br>总成本<br>{total:.2f}元\",\n",
    "                    x=0.5, y=0.5,\n",
    "                    font_size=16,\n",
    "                    showarrow=False\n",
    "                )\n",
    "            ]\n",
    "        ) \n",
    "    }\n"
   ]
  },
  {
   "cell_type": "code",
   "execution_count": 57,
   "id": "f81facc2-8d1c-4680-b9e5-d510be91cce4",
   "metadata": {},
   "outputs": [
    {
     "name": "stderr",
     "output_type": "stream",
     "text": [
      "Address already in use\n",
      "Port 8050 is in use by another program. Either identify and stop that program, or start the server with a different port.\n"
     ]
    },
    {
     "ename": "SystemExit",
     "evalue": "1",
     "output_type": "error",
     "traceback": [
      "An exception has occurred, use %tb to see the full traceback.\n",
      "\u001b[0;31mSystemExit\u001b[0m\u001b[0;31m:\u001b[0m 1\n"
     ]
    }
   ],
   "source": [
    "if __name__ == '__main__':\n",
    "    app.run(debug=True)"
   ]
  },
  {
   "cell_type": "code",
   "execution_count": 58,
   "id": "69d0ab80-8890-4301-b3d4-536c067fd538",
   "metadata": {
    "scrolled": true
   },
   "outputs": [
    {
     "name": "stdout",
     "output_type": "stream",
     "text": [
      "端口已被占用，自动切换至8051\n"
     ]
    },
    {
     "data": {
      "text/html": [
       "\n",
       "        <iframe\n",
       "            width=\"100%\"\n",
       "            height=\"650\"\n",
       "            src=\"http://127.0.0.1:8051/\"\n",
       "            frameborder=\"0\"\n",
       "            allowfullscreen\n",
       "            \n",
       "        ></iframe>\n",
       "        "
      ],
      "text/plain": [
       "<IPython.lib.display.IFrame at 0x156898200>"
      ]
     },
     "metadata": {},
     "output_type": "display_data"
    }
   ],
   "source": [
    "import socket  \n",
    "\n",
    "def is_port_in_use(port: int) -> bool:  \n",
    "    with socket.socket(socket.AF_INET, socket.SOCK_STREAM) as s:  \n",
    "        return s.connect_ex(('localhost', port)) == 0  \n",
    "\n",
    "if is_port_in_use(8050):  \n",
    "    print(\"端口已被占用，自动切换至8051\")  \n",
    "    app.run(port=8051)  \n",
    "else:  \n",
    "    app.run(port=8050)  \n"
   ]
  },
  {
   "cell_type": "code",
   "execution_count": null,
   "id": "a72262df-2575-44c7-ae45-15b36c46f99b",
   "metadata": {},
   "outputs": [],
   "source": []
  },
  {
   "cell_type": "code",
   "execution_count": null,
   "id": "dd80dc90-5ee1-4ef1-93d5-629e43bd7dcf",
   "metadata": {},
   "outputs": [],
   "source": []
  },
  {
   "cell_type": "code",
   "execution_count": null,
   "id": "fdc32171-132e-4c41-8457-e4e04fa01b09",
   "metadata": {},
   "outputs": [],
   "source": []
  },
  {
   "cell_type": "code",
   "execution_count": null,
   "id": "2cf48eb9-129e-402a-8dd1-741b08711f31",
   "metadata": {},
   "outputs": [],
   "source": []
  },
  {
   "cell_type": "code",
   "execution_count": null,
   "id": "508225cb-763d-4cc2-a2ac-12e45c9922b4",
   "metadata": {},
   "outputs": [],
   "source": []
  }
 ],
 "metadata": {
  "kernelspec": {
   "display_name": "Python 3 (ipykernel)",
   "language": "python",
   "name": "python3"
  },
  "language_info": {
   "codemirror_mode": {
    "name": "ipython",
    "version": 3
   },
   "file_extension": ".py",
   "mimetype": "text/x-python",
   "name": "python",
   "nbconvert_exporter": "python",
   "pygments_lexer": "ipython3",
   "version": "3.12.7"
  }
 },
 "nbformat": 4,
 "nbformat_minor": 5
}
