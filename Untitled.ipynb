{
 "cells": [
  {
   "cell_type": "code",
   "execution_count": null,
   "id": "0d42d658-bc38-459e-8758-800b2de81a02",
   "metadata": {},
   "outputs": [],
   "source": []
  },
  {
   "cell_type": "code",
   "execution_count": null,
   "id": "36f9357f-9e41-47da-bddc-198e341fd15c",
   "metadata": {},
   "outputs": [],
   "source": []
  },
  {
   "cell_type": "code",
   "execution_count": null,
   "id": "b97297bd-9596-45df-b1d4-6ed25e2e8ae0",
   "metadata": {},
   "outputs": [],
   "source": []
  },
  {
   "cell_type": "code",
   "execution_count": null,
   "id": "b05b5413-00dd-4917-9253-82e45e2c1cda",
   "metadata": {},
   "outputs": [],
   "source": [
    "import pandas as pd \n",
    "import numpy as py \n",
    "import datetime \n",
    "import matplotlib.pyplot as plt \n",
    "import sklearn as sk \n",
    "import scipy as sp \n",
    "import baostock as bs \n",
    "import seaborn as sns "
   ]
  },
  {
   "cell_type": "code",
   "execution_count": null,
   "id": "4070b850-1093-4a55-9526-44ec6552ecb5",
   "metadata": {},
   "outputs": [],
   "source": [
    "plt.rcParams['font.sans-serif'] = ['PingFang SC', 'Arial Unicode MS']  # Mac常用中文字体\n",
    "plt.rcParams['axes.unicode_minus'] = False  # 解决负号显示问题\n",
    "pd.options.display.float_format = '{:.2f}'.format"
   ]
  },
  {
   "cell_type": "code",
   "execution_count": null,
   "id": "669f4a25-34c4-4282-a51e-52c37e454ceb",
   "metadata": {},
   "outputs": [],
   "source": [
    "tables=pd.read_html(\"https://s.askci.com/stock/financialanalysis/000725\",header=0)"
   ]
  },
  {
   "cell_type": "code",
   "execution_count": null,
   "id": "18294901-8757-4469-b4e7-70b40f3cf621",
   "metadata": {},
   "outputs": [],
   "source": [
    "#可以是季度级别也可以是年级别的\n",
    "df_year=tables[0]\n",
    "df_year=df_year[df_year['类别\\年份']>=200203]\n",
    "df_year"
   ]
  },
  {
   "cell_type": "code",
   "execution_count": null,
   "id": "ac558a03-9d95-454c-9b15-40e40fc72048",
   "metadata": {},
   "outputs": [],
   "source": []
  },
  {
   "cell_type": "code",
   "execution_count": null,
   "id": "f3f996fe-9de1-4d78-b7b2-a41f93e3350d",
   "metadata": {},
   "outputs": [],
   "source": []
  },
  {
   "cell_type": "code",
   "execution_count": null,
   "id": "7c45e530-25e0-4665-a1a7-97668e9dcbbc",
   "metadata": {},
   "outputs": [],
   "source": []
  }
 ],
 "metadata": {
  "kernelspec": {
   "display_name": "Python 3 (ipykernel)",
   "language": "python",
   "name": "python3"
  },
  "language_info": {
   "codemirror_mode": {
    "name": "ipython",
    "version": 3
   },
   "file_extension": ".py",
   "mimetype": "text/x-python",
   "name": "python",
   "nbconvert_exporter": "python",
   "pygments_lexer": "ipython3",
   "version": "3.12.7"
  }
 },
 "nbformat": 4,
 "nbformat_minor": 5
}
