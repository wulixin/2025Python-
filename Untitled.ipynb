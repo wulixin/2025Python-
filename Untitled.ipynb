{
 "cells": [
  {
   "cell_type": "markdown",
   "id": "4661cc94-5f4c-407d-a804-412616a7c72b",
   "metadata": {},
   "source": [
    "##  探索用不同的架构实现雷达图"
   ]
  },
  {
   "cell_type": "code",
   "execution_count": null,
   "id": "dbf9b171-3b97-4e21-b22b-eca154760e20",
   "metadata": {},
   "outputs": [],
   "source": []
  },
  {
   "cell_type": "code",
   "execution_count": null,
   "id": "5877e196-8968-4bc9-adc3-8c1f41928b78",
   "metadata": {},
   "outputs": [],
   "source": []
  },
  {
   "cell_type": "code",
   "execution_count": null,
   "id": "56604f3f-5227-4808-8d8d-7df83ee80f8d",
   "metadata": {},
   "outputs": [],
   "source": [
    "plt.rcParams['font.sans-serif'] = ['PingFang SC', 'Arial Unicode MS']  # Mac常用中文字体\n",
    "plt.rcParams['axes.unicode_minus'] = False  # 解决负号显示问题\n",
    "pd.options.display.float_format = '{:.2f}'.format\n"
   ]
  }
 ],
 "metadata": {
  "kernelspec": {
   "display_name": "Python 3 (ipykernel)",
   "language": "python",
   "name": "python3"
  },
  "language_info": {
   "codemirror_mode": {
    "name": "ipython",
    "version": 3
   },
   "file_extension": ".py",
   "mimetype": "text/x-python",
   "name": "python",
   "nbconvert_exporter": "python",
   "pygments_lexer": "ipython3",
   "version": "3.12.7"
  }
 },
 "nbformat": 4,
 "nbformat_minor": 5
}
